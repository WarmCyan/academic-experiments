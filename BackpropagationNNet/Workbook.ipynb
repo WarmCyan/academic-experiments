{
 "cells": [
  {
   "cell_type": "markdown",
   "metadata": {},
   "source": [
    "# Backpropagation in Feed Forward Neural Networks - Research Workbook\n",
    "\n",
    "Academic Exercise 0  \n",
    "Started 1/5/2017"
   ]
  },
  {
   "cell_type": "markdown",
   "metadata": {},
   "source": [
    "## Background\n",
    "\n",
    "### Artificial Neural Network\n",
    "\n",
    "<p><a href='https://en.wikipedia.org/wiki/Artificial_neural_network'>wikipedia:Artificial_neural_network</a></p>\n",
    "<p>A neural network (one of the basic concept of connectionism) is a computational attempt to mimic the way the biological brain works based on the concept of a network of connected neurons.</p>\n",
    "<p>The basic unit, the <b>neuron</b>, takes in inputs from previous \"layers\", sums them up, feeds that number through some <b>activation function</b>, then sends the result forward down to any other neurons it's connected to. (Referred to as <b>\"feed forward\"</b>)</p>\n",
    "<p>These networks are typically constructed in \"layers\". a row of neurons that each feed into each neuron in the next layer. The first layer is the input layer, where the problem inputs are supplied. The output layer is the one that everything eventually ends up feeding into, where the result is. Every layer in between is referred to as a <b>\"hidden layer\"</b></p>\n",
    "<p>The key part of a network is that every connection has an associated <b>weight</b>. Every number passed down through it from the originating neuron is multiplied by this weight before supplied to the target neuron.</p>\n",
    "</br>\n",
    "\n",
    "<p>The network as a whole essentially acts as a \"formula finder\". The goal is to get a series of weight multiplications/activations that produce a desired set of outputs given a set of inputs. The learning portion of this network works by attempting to manipulate the weight values to get closer and closer to a working solution.</p>"
   ]
  }
 ],
 "metadata": {
  "kernelspec": {
   "display_name": "Python 3",
   "language": "python",
   "name": "python3"
  },
  "language_info": {
   "codemirror_mode": {
    "name": "ipython",
    "version": 3
   },
   "file_extension": ".py",
   "mimetype": "text/x-python",
   "name": "python",
   "nbconvert_exporter": "python",
   "pygments_lexer": "ipython3",
   "version": "3.5.2"
  }
 },
 "nbformat": 4,
 "nbformat_minor": 1
}
